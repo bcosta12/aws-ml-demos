{
 "cells": [
  {
   "cell_type": "markdown",
   "metadata": {},
   "source": [
    "# Create Endpoint from Job"
   ]
  },
  {
   "cell_type": "markdown",
   "metadata": {},
   "source": [
    "## Disclaimer!\n",
    "\n",
    "You should update in conf.py the following variables:\n",
    "\n",
    "- training_job_name\n",
    "- model_data"
   ]
  },
  {
   "cell_type": "code",
   "execution_count": 1,
   "metadata": {},
   "outputs": [
    {
     "name": "stdout",
     "output_type": "stream",
     "text": [
      "arn:aws:iam::664457504912:role/service-role/AmazonSageMaker-ExecutionRole-20200423T115075\n"
     ]
    }
   ],
   "source": [
    "import conf\n",
    "import sagemaker\n",
    "from sagemaker import get_execution_role\n",
    "from sagemaker.model import Model\n",
    "\n",
    "role = get_execution_role()\n",
    "\n",
    "print(role)\n",
    "\n",
    "bucket = conf.SESSION_BUCKET\n",
    "sess = sagemaker.Session(default_bucket=bucket)"
   ]
  },
  {
   "cell_type": "code",
   "execution_count": 2,
   "metadata": {},
   "outputs": [],
   "source": [
    "model_name = sess.create_model_from_job(training_job_name=conf.training_job_name,\n",
    "                                   name=conf.model_name,\n",
    "                                   role=role,\n",
    ")"
   ]
  },
  {
   "cell_type": "code",
   "execution_count": 3,
   "metadata": {},
   "outputs": [
    {
     "name": "stderr",
     "output_type": "stream",
     "text": [
      "Parameter image will be renamed to image_uri in SageMaker Python SDK v2.\n"
     ]
    }
   ],
   "source": [
    "model = Model(model_data=conf.model_data,\n",
    "                    image=conf.container_image,\n",
    "                    role=role,\n",
    "                    sagemaker_session=sess)"
   ]
  },
  {
   "cell_type": "code",
   "execution_count": 4,
   "metadata": {},
   "outputs": [
    {
     "name": "stdout",
     "output_type": "stream",
     "text": [
      "-----------------!"
     ]
    }
   ],
   "source": [
    "object_detector = model.deploy(initial_instance_count=conf.initial_instance_count,\n",
    "                               instance_type=conf.deploy_instance_type,\n",
    "                               endpoint_name=conf.endpoint_name)"
   ]
  },
  {
   "cell_type": "code",
   "execution_count": 5,
   "metadata": {},
   "outputs": [
    {
     "data": {
      "text/plain": [
       "{'EndpointName': 'object-detection-2020-08-11-21-55-56-208',\n",
       " 'EndpointArn': 'arn:aws:sagemaker:us-east-1:664457504912:endpoint/object-detection-2020-08-11-21-55-56-208',\n",
       " 'EndpointConfigName': 'object-detection-2020-08-11-21-55-56-208',\n",
       " 'ProductionVariants': [{'VariantName': 'AllTraffic',\n",
       "   'DeployedImages': [{'SpecifiedImage': '811284229777.dkr.ecr.us-east-1.amazonaws.com/object-detection:latest',\n",
       "     'ResolvedImage': '811284229777.dkr.ecr.us-east-1.amazonaws.com/object-detection@sha256:f2e5e7e9e702a72029b93fb0659b5404e68e8f7063b7e3ae64ba6f0af6631dfc',\n",
       "     'ResolutionTime': datetime.datetime(2020, 8, 12, 14, 31, 38, 516000, tzinfo=tzlocal())}],\n",
       "   'CurrentWeight': 1.0,\n",
       "   'DesiredWeight': 1.0,\n",
       "   'CurrentInstanceCount': 1,\n",
       "   'DesiredInstanceCount': 1}],\n",
       " 'EndpointStatus': 'InService',\n",
       " 'CreationTime': datetime.datetime(2020, 8, 12, 14, 31, 36, 515000, tzinfo=tzlocal()),\n",
       " 'LastModifiedTime': datetime.datetime(2020, 8, 12, 14, 39, 53, 191000, tzinfo=tzlocal()),\n",
       " 'ResponseMetadata': {'RequestId': 'd20246ef-0eef-4e80-a9fb-28aa1bcb6af6',\n",
       "  'HTTPStatusCode': 200,\n",
       "  'HTTPHeaders': {'x-amzn-requestid': 'd20246ef-0eef-4e80-a9fb-28aa1bcb6af6',\n",
       "   'content-type': 'application/x-amz-json-1.1',\n",
       "   'content-length': '764',\n",
       "   'date': 'Wed, 12 Aug 2020 14:40:07 GMT'},\n",
       "  'RetryAttempts': 0}}"
      ]
     },
     "execution_count": 5,
     "metadata": {},
     "output_type": "execute_result"
    }
   ],
   "source": [
    "sess.sagemaker_client.describe_endpoint(EndpointName=conf.endpoint_name)"
   ]
  }
 ],
 "metadata": {
  "kernelspec": {
   "display_name": "conda_python3",
   "language": "python",
   "name": "conda_python3"
  },
  "language_info": {
   "codemirror_mode": {
    "name": "ipython",
    "version": 3
   },
   "file_extension": ".py",
   "mimetype": "text/x-python",
   "name": "python",
   "nbconvert_exporter": "python",
   "pygments_lexer": "ipython3",
   "version": "3.6.10"
  }
 },
 "nbformat": 4,
 "nbformat_minor": 4
}
